{
 "cells": [
  {
   "cell_type": "code",
   "execution_count": 1,
   "metadata": {},
   "outputs": [
    {
     "data": {
      "text/plain": [
       "'/device:GPU:0'"
      ]
     },
     "execution_count": 1,
     "metadata": {},
     "output_type": "execute_result"
    }
   ],
   "source": [
    "import warnings\n",
    "warnings.simplefilter(action='ignore')\n",
    "import tensorflow as tf\n",
    "tf.test.gpu_device_name()"
   ]
  },
  {
   "cell_type": "code",
   "execution_count": 2,
   "metadata": {},
   "outputs": [],
   "source": [
    "from data_preparator import DataPreparator\n",
    "from data_preprocessor import DataPreprocessor\n",
    "from lstm_model import LstmModel"
   ]
  },
  {
   "cell_type": "code",
   "execution_count": 3,
   "metadata": {},
   "outputs": [],
   "source": [
    "preparator = DataPreparator(folder_path=\".\\\\use_data\")\n",
    "preparator.prepare_data()\n"
   ]
  },
  {
   "cell_type": "code",
   "execution_count": 4,
   "metadata": {},
   "outputs": [],
   "source": [
    "processor = DataPreprocessor(df_list=preparator.df_list, df_property=preparator.df_property, words=preparator.words)\n",
    "X, y = processor.preprocess()\n"
   ]
  },
  {
   "cell_type": "code",
   "execution_count": 5,
   "metadata": {},
   "outputs": [
    {
     "name": "stdout",
     "output_type": "stream",
     "text": [
      "WARNING:tensorflow:EarlyStopping mode <built-in function min> is unknown, fallback to auto mode.\n",
      "Model: \"sequential\"\n",
      "_________________________________________________________________\n",
      "Layer (type)                 Output Shape              Param #   \n",
      "=================================================================\n",
      "lstm (LSTM)                  (None, 2452, 512)         1081344   \n",
      "_________________________________________________________________\n",
      "lstm_1 (LSTM)                (None, 512)               2099200   \n",
      "_________________________________________________________________\n",
      "dense (Dense)                (None, 256)               131328    \n",
      "_________________________________________________________________\n",
      "dense_1 (Dense)              (None, 5)                 1285      \n",
      "=================================================================\n",
      "Total params: 3,313,157\n",
      "Trainable params: 3,313,157\n",
      "Non-trainable params: 0\n",
      "_________________________________________________________________\n",
      "None\n"
     ]
    }
   ],
   "source": [
    "lstm = LstmModel(word_length=processor.word_length, input_dim=15, num_class=len(preparator.words))"
   ]
  },
  {
   "cell_type": "code",
   "execution_count": 6,
   "metadata": {},
   "outputs": [
    {
     "data": {
      "text/plain": [
       "(998, 2452, 15)"
      ]
     },
     "execution_count": 6,
     "metadata": {},
     "output_type": "execute_result"
    }
   ],
   "source": [
    "X.shape"
   ]
  },
  {
   "cell_type": "code",
   "execution_count": 7,
   "metadata": {},
   "outputs": [
    {
     "name": "stdout",
     "output_type": "stream",
     "text": [
      "Epoch 1/50\n",
      "111/111 [==============================] - 68s 488ms/step - loss: 1.6641 - accuracy: 0.1962 - val_loss: 1.5968 - val_accuracy: 0.2432\n",
      "Epoch 2/50\n",
      "111/111 [==============================] - 55s 496ms/step - loss: 1.6113 - accuracy: 0.2187 - val_loss: 1.6296 - val_accuracy: 0.1351\n",
      "Epoch 3/50\n",
      "111/111 [==============================] - 55s 497ms/step - loss: 1.6064 - accuracy: 0.2289 - val_loss: 1.6078 - val_accuracy: 0.1892\n",
      "Epoch 4/50\n",
      "111/111 [==============================] - 55s 495ms/step - loss: 1.6029 - accuracy: 0.2435 - val_loss: 1.6055 - val_accuracy: 0.1982\n",
      "Epoch 5/50\n",
      "111/111 [==============================] - 55s 500ms/step - loss: 1.6019 - accuracy: 0.2086 - val_loss: 1.5910 - val_accuracy: 0.2432\n",
      "Epoch 6/50\n",
      " 76/111 [===================>..........] - ETA: 16s - loss: 1.5837 - accuracy: 0.2500"
     ]
    }
   ],
   "source": [
    "lstm.split_dataset(X, y)\n",
    "lstm.fit()"
   ]
  },
  {
   "cell_type": "code",
   "execution_count": null,
   "metadata": {},
   "outputs": [
    {
     "data": {
      "text/plain": [
       "[0.13636364042758942,\n",
       " 0.20454545319080353,\n",
       " 0.27272728085517883,\n",
       " 0.22727273404598236,\n",
       " 0.20454545319080353,\n",
       " 0.13636364042758942,\n",
       " 0.22727273404598236,\n",
       " 0.22727273404598236,\n",
       " 0.20454545319080353,\n",
       " 0.20454545319080353,\n",
       " 0.22727273404598236,\n",
       " 0.27272728085517883,\n",
       " 0.13636364042758942,\n",
       " 0.22727273404598236,\n",
       " 0.13636364042758942,\n",
       " 0.13636364042758942,\n",
       " 0.27272728085517883,\n",
       " 0.15909090638160706,\n",
       " 0.15909090638160706,\n",
       " 0.15909090638160706,\n",
       " 0.22727273404598236,\n",
       " 0.22727273404598236,\n",
       " 0.20454545319080353,\n",
       " 0.27272728085517883,\n",
       " 0.20454545319080353,\n",
       " 0.27272728085517883,\n",
       " 0.27272728085517883,\n",
       " 0.13636364042758942,\n",
       " 0.20454545319080353,\n",
       " 0.22727273404598236,\n",
       " 0.27272728085517883,\n",
       " 0.20454545319080353,\n",
       " 0.27272728085517883,\n",
       " 0.13636364042758942,\n",
       " 0.13636364042758942,\n",
       " 0.27272728085517883,\n",
       " 0.20454545319080353,\n",
       " 0.27272728085517883,\n",
       " 0.22727273404598236,\n",
       " 0.20454545319080353,\n",
       " 0.27272728085517883,\n",
       " 0.13636364042758942,\n",
       " 0.13636364042758942,\n",
       " 0.13636364042758942,\n",
       " 0.27272728085517883,\n",
       " 0.27272728085517883,\n",
       " 0.27272728085517883,\n",
       " 0.13636364042758942,\n",
       " 0.13636364042758942,\n",
       " 0.27272728085517883]"
      ]
     },
     "execution_count": 11,
     "metadata": {},
     "output_type": "execute_result"
    }
   ],
   "source": [
    "lstm.history.history['val_accuracy']"
   ]
  },
  {
   "cell_type": "code",
   "execution_count": null,
   "metadata": {},
   "outputs": [],
   "source": []
  }
 ],
 "metadata": {
  "kernelspec": {
   "display_name": "gpu",
   "language": "python",
   "name": "python3"
  },
  "language_info": {
   "codemirror_mode": {
    "name": "ipython",
    "version": 3
   },
   "file_extension": ".py",
   "mimetype": "text/x-python",
   "name": "python",
   "nbconvert_exporter": "python",
   "pygments_lexer": "ipython3",
   "version": "3.9.16"
  },
  "orig_nbformat": 4,
  "vscode": {
   "interpreter": {
    "hash": "46e6ea7d01d619fc71b7715d80003963a780c5fd8a2155ce2d14041b94dc28c2"
   }
  }
 },
 "nbformat": 4,
 "nbformat_minor": 2
}
