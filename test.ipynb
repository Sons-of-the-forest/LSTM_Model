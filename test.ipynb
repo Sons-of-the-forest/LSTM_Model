{
 "cells": [
  {
   "cell_type": "code",
   "execution_count": 1,
   "metadata": {},
   "outputs": [],
   "source": [
    "\n",
    "import pandas as pd\n",
    "from data_preparator import DataPreparator\n"
   ]
  },
  {
   "cell_type": "code",
   "execution_count": 2,
   "metadata": {},
   "outputs": [],
   "source": [
    "preparator = DataPreparator(folder_path=\"./use_data\")"
   ]
  },
  {
   "cell_type": "code",
   "execution_count": 4,
   "metadata": {},
   "outputs": [],
   "source": [
    "preparator.get_words()"
   ]
  },
  {
   "cell_type": "code",
   "execution_count": 5,
   "metadata": {},
   "outputs": [
    {
     "data": {
      "text/plain": [
       "[]"
      ]
     },
     "execution_count": 5,
     "metadata": {},
     "output_type": "execute_result"
    }
   ],
   "source": [
    "preparator.words"
   ]
  },
  {
   "cell_type": "code",
   "execution_count": 10,
   "metadata": {},
   "outputs": [
    {
     "name": "stdout",
     "output_type": "stream",
     "text": [
      "Except path:  .\\use_data\n",
      "Added folder ancom into list\n",
      "Added folder dienthoai into list\n",
      "Added folder tambiet into list\n",
      "Added folder uongnuoc into list\n",
      "Added folder xinchao into list\n"
     ]
    }
   ],
   "source": [
    "import os\n",
    "folder_path=\".\\\\use_data\"\n",
    "words = []\n",
    "for path in os.walk(folder_path):\n",
    "    try :\n",
    "        words.append(path[0].split('\\\\')[2])\n",
    "        print(\"Added folder \"+ path[0].split('\\\\')[2] +\" into list\")\n",
    "    except:\n",
    "        pass\n",
    "        print(\"Except path: \", path[0])"
   ]
  }
 ],
 "metadata": {
  "kernelspec": {
   "display_name": "gpu",
   "language": "python",
   "name": "python3"
  },
  "language_info": {
   "codemirror_mode": {
    "name": "ipython",
    "version": 3
   },
   "file_extension": ".py",
   "mimetype": "text/x-python",
   "name": "python",
   "nbconvert_exporter": "python",
   "pygments_lexer": "ipython3",
   "version": "3.9.16"
  },
  "orig_nbformat": 4,
  "vscode": {
   "interpreter": {
    "hash": "46e6ea7d01d619fc71b7715d80003963a780c5fd8a2155ce2d14041b94dc28c2"
   }
  }
 },
 "nbformat": 4,
 "nbformat_minor": 2
}
