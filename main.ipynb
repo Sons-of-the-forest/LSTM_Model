{
 "cells": [
  {
   "cell_type": "code",
   "execution_count": 1,
   "metadata": {},
   "outputs": [
    {
     "data": {
      "text/plain": [
       "'/device:GPU:0'"
      ]
     },
     "execution_count": 1,
     "metadata": {},
     "output_type": "execute_result"
    }
   ],
   "source": [
    "import warnings\n",
    "warnings.simplefilter(action='ignore')\n",
    "import tensorflow as tf\n",
    "tf.test.gpu_device_name()"
   ]
  },
  {
   "cell_type": "code",
   "execution_count": 2,
   "metadata": {},
   "outputs": [],
   "source": [
    "from data_preparator import DataPreparator\n",
    "from data_preprocessor import DataPreprocessor\n",
    "from lstm_model import LstmModel"
   ]
  },
  {
   "cell_type": "code",
   "execution_count": 3,
   "metadata": {},
   "outputs": [],
   "source": [
    "preparator = DataPreparator(folder_path=\".\\\\use_data\")\n",
    "preparator.prepare_data()\n"
   ]
  },
  {
   "cell_type": "code",
   "execution_count": 4,
   "metadata": {},
   "outputs": [
    {
     "name": "stdout",
     "output_type": "stream",
     "text": [
      "Padding words...\n",
      "Original df_list contains: 413 dataframes\n",
      "Remove ('ancom', 66) with length 1744\n",
      "Remove ('ancom', 112) with length 1517\n",
      "Remove ('ancom', 114) with length 1604\n",
      "Remove ('ancom', 117) with length 1996\n",
      "Remove ('ancom', 118) with length 1975\n",
      "Remove ('ancom', 127) with length 2137\n",
      "Remove ('ancom', 140) with length 1590\n",
      "Remove ('ancom', 143) with length 1506\n",
      "Remove ('ancom', 165) with length 1902\n",
      "Remove ('ancom', 191) with length 1572\n",
      "Remove ('dienthoai', 109) with length 1761\n",
      "Remove ('dienthoai', 111) with length 1633\n",
      "Remove ('dienthoai', 113) with length 1881\n",
      "Remove ('dienthoai', 121) with length 1894\n",
      "Remove ('dienthoai', 127) with length 1539\n",
      "Remove ('dienthoai', 129) with length 1905\n",
      "Remove ('dienthoai', 137) with length 2261\n",
      "Remove ('dienthoai', 144) with length 1904\n",
      "Remove ('dienthoai', 146) with length 1922\n",
      "Remove ('dienthoai', 148) with length 1596\n",
      "Remove ('dienthoai', 156) with length 1929\n",
      "Remove ('dienthoai', 157) with length 1540\n",
      "Remove ('dienthoai', 161) with length 1906\n",
      "Remove ('dienthoai', 164) with length 1551\n",
      "Remove ('dienthoai', 171) with length 2061\n",
      "Remove ('dienthoai', 175) with length 1594\n",
      "Remove ('dienthoai', 177) with length 2121\n",
      "Remove ('dienthoai', 183) with length 1516\n",
      "Remove ('dienthoai', 188) with length 2439\n",
      "Remove ('dienthoai', 202) with length 1789\n",
      "Prunned df_list contains: 383 dataframes\n"
     ]
    }
   ],
   "source": [
    "processor = DataPreprocessor(df_list=preparator.df_list, df_property=preparator.df_property, words=preparator.words, scaler='minmax')\n",
    "# print(processor.df_list[0].columns.to_list().remove('label'))\n",
    "X, y = processor.preprocess()\n"
   ]
  },
  {
   "cell_type": "code",
   "execution_count": 5,
   "metadata": {},
   "outputs": [
    {
     "name": "stdout",
     "output_type": "stream",
     "text": [
      "WARNING:tensorflow:EarlyStopping mode <built-in function min> is unknown, fallback to auto mode.\n",
      "Model: \"sequential\"\n",
      "_________________________________________________________________\n",
      "Layer (type)                 Output Shape              Param #   \n",
      "=================================================================\n",
      "lstm (LSTM)                  (None, 1500, 256)         264192    \n",
      "_________________________________________________________________\n",
      "lstm_1 (LSTM)                (None, 128)               197120    \n",
      "_________________________________________________________________\n",
      "dense (Dense)                (None, 64)                8256      \n",
      "_________________________________________________________________\n",
      "dense_1 (Dense)              (None, 2)                 130       \n",
      "=================================================================\n",
      "Total params: 469,698\n",
      "Trainable params: 469,698\n",
      "Non-trainable params: 0\n",
      "_________________________________________________________________\n",
      "None\n"
     ]
    }
   ],
   "source": [
    "lstm = LstmModel(word_length=processor.word_length, input_dim=len(processor.features), num_class=len(preparator.words))\n",
    "lstm.print_model()"
   ]
  },
  {
   "cell_type": "code",
   "execution_count": 6,
   "metadata": {},
   "outputs": [
    {
     "data": {
      "text/plain": [
       "((383, 1500, 1), (383, 2))"
      ]
     },
     "execution_count": 6,
     "metadata": {},
     "output_type": "execute_result"
    }
   ],
   "source": [
    "X.shape, y.shape"
   ]
  },
  {
   "cell_type": "code",
   "execution_count": 7,
   "metadata": {},
   "outputs": [
    {
     "name": "stdout",
     "output_type": "stream",
     "text": [
      "Epoch 1/20\n",
      "20/20 [==============================] - 10s 221ms/step - loss: 0.7245 - accuracy: 0.5033 - val_loss: 0.7026 - val_accuracy: 0.5065\n",
      "Epoch 2/20\n",
      "20/20 [==============================] - 3s 157ms/step - loss: 0.6930 - accuracy: 0.4804 - val_loss: 0.6944 - val_accuracy: 0.5065\n",
      "Epoch 3/20\n",
      "20/20 [==============================] - 3s 157ms/step - loss: 0.6982 - accuracy: 0.4510 - val_loss: 0.6934 - val_accuracy: 0.5065\n",
      "Epoch 4/20\n",
      "20/20 [==============================] - 3s 156ms/step - loss: 0.6861 - accuracy: 0.4739 - val_loss: 0.6970 - val_accuracy: 0.5065\n",
      "Epoch 5/20\n",
      "20/20 [==============================] - 3s 155ms/step - loss: 0.6855 - accuracy: 0.4902 - val_loss: 0.6939 - val_accuracy: 0.4935\n",
      "Epoch 6/20\n",
      "20/20 [==============================] - 3s 155ms/step - loss: 0.6835 - accuracy: 0.5131 - val_loss: 0.6965 - val_accuracy: 0.5065\n",
      "Epoch 7/20\n",
      "20/20 [==============================] - 3s 160ms/step - loss: 0.6849 - accuracy: 0.5065 - val_loss: 0.7539 - val_accuracy: 0.5065\n",
      "Epoch 8/20\n",
      "20/20 [==============================] - 3s 149ms/step - loss: 0.6970 - accuracy: 0.5000 - val_loss: 0.6956 - val_accuracy: 0.4805\n",
      "Epoch 9/20\n",
      "20/20 [==============================] - 3s 150ms/step - loss: 0.6888 - accuracy: 0.5098 - val_loss: 0.6980 - val_accuracy: 0.4805\n",
      "Epoch 10/20\n",
      "20/20 [==============================] - 3s 151ms/step - loss: 0.6816 - accuracy: 0.5327 - val_loss: 0.7023 - val_accuracy: 0.5065\n",
      "Epoch 11/20\n",
      "20/20 [==============================] - 3s 149ms/step - loss: 0.6840 - accuracy: 0.5327 - val_loss: 0.7187 - val_accuracy: 0.4805\n",
      "Epoch 12/20\n",
      "20/20 [==============================] - 3s 150ms/step - loss: 0.6805 - accuracy: 0.5359 - val_loss: 0.7128 - val_accuracy: 0.5065\n",
      "Epoch 13/20\n",
      "20/20 [==============================] - 3s 151ms/step - loss: 0.6797 - accuracy: 0.5098 - val_loss: 0.7098 - val_accuracy: 0.5065\n",
      "Epoch 14/20\n",
      "20/20 [==============================] - 3s 155ms/step - loss: 0.6772 - accuracy: 0.4837 - val_loss: 0.7097 - val_accuracy: 0.5065\n",
      "Epoch 15/20\n",
      "20/20 [==============================] - 3s 150ms/step - loss: 0.6762 - accuracy: 0.5229 - val_loss: 0.7083 - val_accuracy: 0.4805\n",
      "Epoch 16/20\n",
      "20/20 [==============================] - 3s 151ms/step - loss: 0.6786 - accuracy: 0.4935 - val_loss: 0.7142 - val_accuracy: 0.4675\n",
      "Epoch 17/20\n",
      "20/20 [==============================] - 3s 150ms/step - loss: 0.6728 - accuracy: 0.5392 - val_loss: 0.7434 - val_accuracy: 0.5065\n",
      "Epoch 18/20\n",
      "20/20 [==============================] - 3s 149ms/step - loss: 0.6734 - accuracy: 0.5588 - val_loss: 0.7270 - val_accuracy: 0.4805\n",
      "Epoch 19/20\n",
      "20/20 [==============================] - 3s 149ms/step - loss: 0.6718 - accuracy: 0.4771 - val_loss: 0.7364 - val_accuracy: 0.4675\n",
      "Epoch 20/20\n",
      "20/20 [==============================] - 3s 150ms/step - loss: 0.6703 - accuracy: 0.4967 - val_loss: 0.7495 - val_accuracy: 0.5065\n"
     ]
    }
   ],
   "source": [
    "lstm.split_dataset(X, y)\n",
    "lstm.fit()"
   ]
  },
  {
   "cell_type": "code",
   "execution_count": 8,
   "metadata": {},
   "outputs": [
    {
     "name": "stdout",
     "output_type": "stream",
     "text": [
      "3/3 [==============================] - 0s 67ms/step - loss: 0.6665 - accuracy: 0.5325\n",
      "Loss : 0.6665152311325073\n",
      "Accuracy : 0.5324675440788269\n"
     ]
    }
   ],
   "source": [
    "lstm.evaluate()"
   ]
  },
  {
   "cell_type": "code",
   "execution_count": 9,
   "metadata": {},
   "outputs": [
    {
     "name": "stdout",
     "output_type": "stream",
     "text": [
      "Model: \"sequential\"\n",
      "_________________________________________________________________\n",
      "Layer (type)                 Output Shape              Param #   \n",
      "=================================================================\n",
      "lstm (LSTM)                  (None, 1500, 256)         264192    \n",
      "_________________________________________________________________\n",
      "lstm_1 (LSTM)                (None, 128)               197120    \n",
      "_________________________________________________________________\n",
      "dense (Dense)                (None, 64)                8256      \n",
      "_________________________________________________________________\n",
      "dense_1 (Dense)              (None, 2)                 130       \n",
      "=================================================================\n",
      "Total params: 469,698\n",
      "Trainable params: 469,698\n",
      "Non-trainable params: 0\n",
      "_________________________________________________________________\n",
      "None\n"
     ]
    }
   ],
   "source": [
    "lstm.print_model()"
   ]
  },
  {
   "cell_type": "code",
   "execution_count": null,
   "metadata": {},
   "outputs": [],
   "source": []
  }
 ],
 "metadata": {
  "kernelspec": {
   "display_name": "gpu",
   "language": "python",
   "name": "python3"
  },
  "language_info": {
   "codemirror_mode": {
    "name": "ipython",
    "version": 3
   },
   "file_extension": ".py",
   "mimetype": "text/x-python",
   "name": "python",
   "nbconvert_exporter": "python",
   "pygments_lexer": "ipython3",
   "version": "3.9.16"
  },
  "orig_nbformat": 4,
  "vscode": {
   "interpreter": {
    "hash": "46e6ea7d01d619fc71b7715d80003963a780c5fd8a2155ce2d14041b94dc28c2"
   }
  }
 },
 "nbformat": 4,
 "nbformat_minor": 2
}
